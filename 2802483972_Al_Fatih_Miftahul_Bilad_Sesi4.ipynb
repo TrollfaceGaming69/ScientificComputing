{
  "nbformat": 4,
  "nbformat_minor": 0,
  "metadata": {
    "colab": {
      "provenance": [],
      "authorship_tag": "ABX9TyMBoEJ8LjKN2cupPNneFHk5",
      "include_colab_link": true
    },
    "kernelspec": {
      "name": "python3",
      "display_name": "Python 3"
    },
    "language_info": {
      "name": "python"
    }
  },
  "cells": [
    {
      "cell_type": "markdown",
      "metadata": {
        "id": "view-in-github",
        "colab_type": "text"
      },
      "source": [
        "<a href=\"https://colab.research.google.com/github/TrollfaceGaming69/ScientificComputing/blob/main/2802483972_Al_Fatih_Miftahul_Bilad_Sesi4.ipynb\" target=\"_parent\"><img src=\"https://colab.research.google.com/assets/colab-badge.svg\" alt=\"Open In Colab\"/></a>"
      ]
    },
    {
      "cell_type": "code",
      "execution_count": null,
      "metadata": {
        "id": "JqR2ktoZtZc3"
      },
      "outputs": [],
      "source": [
        "import numpy as np\n",
        "\n",
        "def my_bisection(f, a, b, tol):\n",
        "  if np.sign(f(a)) == np.sign(f(b)):\n",
        "    raise Exception(\"The scalars a and b do not bound a root\")\n",
        "\n",
        "  m = (a + b) / 2\n",
        "\n",
        "  if np.abs(f(m)) < tol:\n",
        "    return m\n",
        "\n",
        "  elif np.sign(f(a)) == np.sign(f(m)):\n",
        "    return my_bisection(f, m, b, tol)\n",
        "\n",
        "  elif np.sign(f(b)) == np.sign(f(m)):\n",
        "    return my_bisection(f, a, m, tol)\n"
      ]
    },
    {
      "cell_type": "code",
      "source": [
        "f=lambda x: x**2-2\n",
        "\n",
        "r1=my_bisection(f,0,2,0.1)\n",
        "print(\"rl=\", r1)\n",
        "\n",
        "r01=my_bisection(f,0,2,0.01)\n",
        "print(\"r01=\", r01)\n",
        "\n",
        "print(\"f(r1)=\", f(r1))\n",
        "print(\"f(r01)=\", f(r01))"
      ],
      "metadata": {
        "colab": {
          "base_uri": "https://localhost:8080/"
        },
        "id": "Z-9K3ithvzpj",
        "outputId": "8b407ec8-bfa0-472d-800c-ac7c5886029d"
      },
      "execution_count": null,
      "outputs": [
        {
          "output_type": "stream",
          "name": "stdout",
          "text": [
            "rl= 1.4375\n",
            "r01= 1.4140625\n",
            "f(r1)= 0.06640625\n",
            "f(r01)= -0.00042724609375\n"
          ]
        }
      ]
    },
    {
      "cell_type": "code",
      "source": [
        "import numpy as np\n",
        "\n",
        "f=lambda x: x**2-2\n",
        "\n",
        "f_prime=lambda x: 2*x\n",
        "newton_raphson=1.4-(f(1.4))/(f_prime(1.4))\n",
        "\n",
        "print(\"newton_raphson=\", newton_raphson)\n",
        "print(\"sqrt(2)=\", np.sqrt(2))\n"
      ],
      "metadata": {
        "colab": {
          "base_uri": "https://localhost:8080/"
        },
        "id": "J7dB6mhAvxVD",
        "outputId": "2ce444e9-95e5-4f69-ec04-2db42c5321dc"
      },
      "execution_count": null,
      "outputs": [
        {
          "output_type": "stream",
          "name": "stdout",
          "text": [
            "newton_raphson= 1.4142857142857144\n",
            "sqrt(2)= 1.4142135623730951\n"
          ]
        }
      ]
    },
    {
      "cell_type": "code",
      "source": [
        "def my_newton(f, df, x0, tol):\n",
        "  if abs(f(x0)) < tol:\n",
        "    return x0\n",
        "  else:\n",
        "    return my_newton(f, df, x0 - f(x0)/df(x0), tol)"
      ],
      "metadata": {
        "id": "uUQIPKfj06vU"
      },
      "execution_count": null,
      "outputs": []
    },
    {
      "cell_type": "code",
      "source": [
        "estimate=my_newton(f, f_prime, 1.5, 1e-6)\n",
        "print(\"estimate=\", estimate)\n",
        "print(\"sqrt(2)=\", np.sqrt(2))"
      ],
      "metadata": {
        "colab": {
          "base_uri": "https://localhost:8080/"
        },
        "id": "s5L2Mvwj0_-j",
        "outputId": "97ffe705-72b7-4e7e-ab7f-2e6a636fa87b"
      },
      "execution_count": null,
      "outputs": [
        {
          "output_type": "stream",
          "name": "stdout",
          "text": [
            "estimate= 1.4142135623746899\n",
            "sqrt(2)= 1.4142135623730951\n"
          ]
        }
      ]
    },
    {
      "cell_type": "markdown",
      "source": [
        "modul"
      ],
      "metadata": {
        "id": "nMYJGMxJ_t3v"
      }
    },
    {
      "cell_type": "code",
      "source": [
        "\n"
      ],
      "metadata": {
        "id": "uHEoQgfs_w-v"
      },
      "execution_count": null,
      "outputs": []
    },
    {
      "cell_type": "code",
      "execution_count": 2,
      "metadata": {
        "id": "Y5SK3TZJAW94"
      },
      "outputs": [],
      "source": [
        "import numpy as np\n",
        "\n",
        "def my_bisection(f, a, b, tol):\n",
        "  if np.sign(f(a)) == np.sign(f(b)):\n",
        "    raise Exception(\"The scalars a and b do not bound a root\")\n",
        "\n",
        "  m = (a + b) / 2\n",
        "\n",
        "  if np.abs(f(m)) < tol:\n",
        "    return m\n",
        "\n",
        "  elif np.sign(f(a)) == np.sign(f(m)):\n",
        "    return my_bisection(f, m, b, tol)\n",
        "\n",
        "  elif np.sign(f(b)) == np.sign(f(m)):\n",
        "    return my_bisection(f, a, m, tol)\n"
      ]
    },
    {
      "cell_type": "code",
      "source": [],
      "metadata": {
        "id": "ECxrb0emAYOd"
      },
      "execution_count": null,
      "outputs": []
    },
    {
      "cell_type": "code",
      "source": [
        "f=lambda x: np.sin(x)-x\n",
        "\n",
        "r1=my_bisection(f,0,1,0.1)\n",
        "print(\"rl=\", r1)\n",
        "\n",
        "r01=my_bisection(f,0,1,0.01)\n",
        "print(\"r01=\", r01)\n",
        "\n",
        "print(\"f(r1)=\", f(r1))\n",
        "print(\"f(r01)=\", f(r01))"
      ],
      "metadata": {
        "colab": {
          "base_uri": "https://localhost:8080/"
        },
        "outputId": "f6a54a93-bc5d-40a2-e9c8-57b3566a8554",
        "id": "7-RPCU3BAaT0"
      },
      "execution_count": 3,
      "outputs": [
        {
          "output_type": "stream",
          "name": "stdout",
          "text": [
            "rl= 0.5\n",
            "r01= 0.25\n",
            "f(r1)= -0.020574461395796995\n",
            "f(r01)= -0.002596040745477063\n"
          ]
        }
      ]
    },
    {
      "cell_type": "code",
      "source": [
        "import numpy as np\n",
        "\n",
        "f = lambda x: x**3 - 3*x**2 + 2*x\n",
        "f_prime = lambda x: 3*x**2 - 6*x + 2\n",
        "\n",
        "def my_newton(f, df, x0, tol):\n",
        "  if abs(f(x0))<tol:\n",
        "    return x0\n",
        "  else:\n",
        "    return my_newton(f, df, x0-f(x0)/df(x0), tol)\n",
        "\n",
        "\n",
        "\n",
        "estimate = my_newton(f, f_prime, 1.5, 0.01)\n",
        "print(\"estimate=\", estimate)\n",
        "print(\"sqrt(2)=\",f(estimate))"
      ],
      "metadata": {
        "colab": {
          "base_uri": "https://localhost:8080/"
        },
        "id": "Tj4h4vI9BBbh",
        "outputId": "48fecbb3-c9a3-45b2-b677-6fe6c13283d2"
      },
      "execution_count": 4,
      "outputs": [
        {
          "output_type": "stream",
          "name": "stdout",
          "text": [
            "estimate= 0.0\n",
            "sqrt(2)= 0.0\n"
          ]
        }
      ]
    }
  ]
}