{
  "nbformat": 4,
  "nbformat_minor": 0,
  "metadata": {
    "colab": {
      "provenance": [],
      "authorship_tag": "ABX9TyP99LObsxp13MhPenXcm6JS",
      "include_colab_link": true
    },
    "kernelspec": {
      "name": "python3",
      "display_name": "Python 3"
    },
    "language_info": {
      "name": "python"
    }
  },
  "cells": [
    {
      "cell_type": "markdown",
      "metadata": {
        "id": "view-in-github",
        "colab_type": "text"
      },
      "source": [
        "<a href=\"https://colab.research.google.com/github/TrollfaceGaming69/ScientificComputing/blob/main/2802483972_Al_Fatih_Miftahul_Bilad.ipynb\" target=\"_parent\"><img src=\"https://colab.research.google.com/assets/colab-badge.svg\" alt=\"Open In Colab\"/></a>"
      ]
    },
    {
      "cell_type": "code",
      "execution_count": 1,
      "metadata": {
        "colab": {
          "base_uri": "https://localhost:8080/"
        },
        "id": "gxi0luDlHMmR",
        "outputId": "9f19ab4e-8c9b-49dd-8be0-ccfe7e572574"
      },
      "outputs": [
        {
          "output_type": "stream",
          "name": "stdout",
          "text": [
            "Thu Feb  6 02:39:39 2025\n"
          ]
        }
      ],
      "source": [
        "import time\n",
        "print(time.ctime())"
      ]
    },
    {
      "cell_type": "code",
      "source": [
        "x = 1\n",
        "x"
      ],
      "metadata": {
        "colab": {
          "base_uri": "https://localhost:8080/"
        },
        "id": "UUNd2jCBI8y4",
        "outputId": "8207b85b-5a0e-448b-ca3b-7272a5a89e3b"
      },
      "execution_count": 2,
      "outputs": [
        {
          "output_type": "execute_result",
          "data": {
            "text/plain": [
              "1"
            ]
          },
          "metadata": {},
          "execution_count": 2
        }
      ]
    },
    {
      "cell_type": "code",
      "source": [
        "x = x + 1\n",
        "x"
      ],
      "metadata": {
        "colab": {
          "base_uri": "https://localhost:8080/"
        },
        "id": "mi5thwc6JQvB",
        "outputId": "177ccfe3-da36-4d3c-e77a-8e77ddbb3061"
      },
      "execution_count": 3,
      "outputs": [
        {
          "output_type": "execute_result",
          "data": {
            "text/plain": [
              "2"
            ]
          },
          "metadata": {},
          "execution_count": 3
        }
      ]
    },
    {
      "cell_type": "code",
      "source": [
        "x = 1\n",
        "y = x + 1\n",
        "x = 2\n",
        "y"
      ],
      "metadata": {
        "colab": {
          "base_uri": "https://localhost:8080/"
        },
        "id": "YtOxniiKKAYC",
        "outputId": "41d4dac1-c4f7-4d96-8045-b1952a38feda"
      },
      "execution_count": 4,
      "outputs": [
        {
          "output_type": "execute_result",
          "data": {
            "text/plain": [
              "2"
            ]
          },
          "metadata": {},
          "execution_count": 4
        }
      ]
    },
    {
      "cell_type": "markdown",
      "source": [
        "omke gams vromtherhood"
      ],
      "metadata": {
        "id": "yGVK8E9gIya6"
      }
    },
    {
      "cell_type": "code",
      "source": [
        "import numpy as jawa"
      ],
      "metadata": {
        "id": "MgzAc7h6KpcO"
      },
      "execution_count": 8,
      "outputs": []
    },
    {
      "cell_type": "code",
      "source": [
        "xp = jawa.array([1,4,3])\n",
        "xp"
      ],
      "metadata": {
        "colab": {
          "base_uri": "https://localhost:8080/"
        },
        "id": "5bwmczaMLTOh",
        "outputId": "0d2b23b8-1317-4f12-81df-1de4c72acd59"
      },
      "execution_count": 11,
      "outputs": [
        {
          "output_type": "execute_result",
          "data": {
            "text/plain": [
              "array([1, 4, 3])"
            ]
          },
          "metadata": {},
          "execution_count": 11
        }
      ]
    },
    {
      "cell_type": "code",
      "source": [
        "kkk = jawa.array([[1,4,3],[9,2,7]])\n",
        "kkk"
      ],
      "metadata": {
        "colab": {
          "base_uri": "https://localhost:8080/"
        },
        "id": "Qoyn_VBzL37j",
        "outputId": "91fcdd4d-e330-470d-9f41-93b63f7a2d09"
      },
      "execution_count": 20,
      "outputs": [
        {
          "output_type": "execute_result",
          "data": {
            "text/plain": [
              "array([[1, 4, 3],\n",
              "       [9, 2, 7]])"
            ]
          },
          "metadata": {},
          "execution_count": 20
        }
      ]
    },
    {
      "cell_type": "code",
      "source": [
        "def jawir(a,b,c):\n",
        "\n",
        "  out = a+b+c\n",
        "\n",
        "  return out"
      ],
      "metadata": {
        "id": "cUEkSmqhOVFU"
      },
      "execution_count": 21,
      "outputs": []
    },
    {
      "cell_type": "code",
      "source": [
        "jawir(1,2,3)"
      ],
      "metadata": {
        "colab": {
          "base_uri": "https://localhost:8080/"
        },
        "id": "dtzfQmcAOmzW",
        "outputId": "1120477c-45e6-40a3-8587-2416beeeead6"
      },
      "execution_count": 22,
      "outputs": [
        {
          "output_type": "execute_result",
          "data": {
            "text/plain": [
              "6"
            ]
          },
          "metadata": {},
          "execution_count": 22
        }
      ]
    },
    {
      "cell_type": "code",
      "source": [
        "def thermostat(temp, desired_temp):\n",
        "  if temp < desired_temp - 5:\n",
        "    status = 'Heat'\n",
        "  elif temp > desired_temp + 5:\n",
        "    status = 'AC'\n",
        "  else:\n",
        "    status = 'off'\n",
        "\n",
        "  return status"
      ],
      "metadata": {
        "id": "rIxmZjL7QZxM"
      },
      "execution_count": 23,
      "outputs": []
    },
    {
      "cell_type": "code",
      "source": [
        "status = thermostat(65,75)\n",
        "print(status)"
      ],
      "metadata": {
        "colab": {
          "base_uri": "https://localhost:8080/"
        },
        "id": "ug74OJQuQ5IS",
        "outputId": "3cf6b2f7-cc44-438a-ea2b-a7a014452282"
      },
      "execution_count": 24,
      "outputs": [
        {
          "output_type": "stream",
          "name": "stdout",
          "text": [
            "Heat\n"
          ]
        }
      ]
    },
    {
      "cell_type": "code",
      "source": [
        "status = thermostat(75,65)\n",
        "print(status)"
      ],
      "metadata": {
        "colab": {
          "base_uri": "https://localhost:8080/"
        },
        "id": "38tB6ZkDRC7-",
        "outputId": "d20ebd9c-b7f8-4755-bd8e-d53f43d66a86"
      },
      "execution_count": 25,
      "outputs": [
        {
          "output_type": "stream",
          "name": "stdout",
          "text": [
            "AC\n"
          ]
        }
      ]
    },
    {
      "cell_type": "code",
      "source": [
        "status = thermostat(65,63)\n",
        "print(status)"
      ],
      "metadata": {
        "colab": {
          "base_uri": "https://localhost:8080/"
        },
        "id": "NJ9FcPWTRLWR",
        "outputId": "e9332709-ea53-4e93-89e4-867f1fdc8b4f"
      },
      "execution_count": 26,
      "outputs": [
        {
          "output_type": "stream",
          "name": "stdout",
          "text": [
            "off\n"
          ]
        }
      ]
    },
    {
      "cell_type": "code",
      "source": [
        "x = 3\n",
        "if 1 < x < 2:\n",
        "  y = 2\n",
        "elif 2 < x < 4:\n",
        "  y = 4\n",
        "else:\n",
        "  y = 0\n",
        "print(y)"
      ],
      "metadata": {
        "colab": {
          "base_uri": "https://localhost:8080/"
        },
        "id": "5PjqV4yASuPe",
        "outputId": "d2ce5b9a-49ab-4f77-98e9-f5d451d9755f"
      },
      "execution_count": 27,
      "outputs": [
        {
          "output_type": "stream",
          "name": "stdout",
          "text": [
            "4\n"
          ]
        }
      ]
    },
    {
      "cell_type": "code",
      "source": [
        "def login():\n",
        "  username = input(\"Masukkan username anda:\")\n",
        "  password = input(\"Masukkan password:\")\n",
        "\n",
        "  if password == \"Bn123\":\n",
        "    print(\"Login Berhasil, Selamat datang\", username)\n",
        "  else:\n",
        "    print(\"Incorrect Password\")\n",
        "\n",
        "login()\n",
        "\n",
        "def calculate():\n",
        "  nama = input(\"Masukkan nama siswa\")\n",
        "  nilai_uts = input(\"Masukkan nilai UTS\")\n",
        "  nilai_uas = input(\"Masukkan nilai UAS\")\n",
        "  nilas_asg = input(\"Masukkan nilai Assignment\")\n",
        "\n",
        "  nilai_total ="
      ],
      "metadata": {
        "colab": {
          "base_uri": "https://localhost:8080/"
        },
        "id": "8Axp0BSWVg27",
        "outputId": "cfd26c3f-4ac4-4ba7-9f20-d15cd96e281d"
      },
      "execution_count": 43,
      "outputs": [
        {
          "output_type": "stream",
          "name": "stdout",
          "text": [
            "Masukkan username anda:joko\n",
            "Masukkan password:Bn123\n",
            "Login Berhasil, Selamat datang joko\n"
          ]
        }
      ]
    },
    {
      "cell_type": "code",
      "source": [],
      "metadata": {
        "id": "ERPW1MNnTnOp"
      },
      "execution_count": null,
      "outputs": []
    }
  ]
}